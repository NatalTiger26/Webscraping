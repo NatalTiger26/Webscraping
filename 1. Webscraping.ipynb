{
 "cells": [
  {
   "cell_type": "code",
   "execution_count": 33,
   "metadata": {},
   "outputs": [],
   "source": [
    "# HTML : w3school.com\n",
    "#t"
   ]
  },
  {
   "cell_type": "code",
   "execution_count": 34,
   "metadata": {},
   "outputs": [
    {
     "name": "stdout",
     "output_type": "stream",
     "text": [
      "<Response [200]>\n",
      "\n",
      "\n",
      "\n",
      "\n",
      " \n",
      "\n",
      "\n",
      "\n",
      "\n",
      "\n",
      "\n",
      "\n",
      "\n",
      "\n",
      "\n",
      "\n",
      "\n",
      "\n",
      "\n",
      "\n",
      "\n",
      "\n",
      "\n",
      "\n",
      "\n",
      "\n",
      "\n",
      "\n",
      "People | UCL Quantum Science and Technology Institute - UCL – University College London\n",
      "\n",
      "\n",
      "\n",
      " \n",
      "\n",
      "\n",
      "\n",
      "\n",
      "\n",
      "\n",
      "\n",
      "\n",
      "\n",
      "\n",
      "\n",
      "\n",
      "\n",
      "\n",
      "\n",
      "\n",
      "\n",
      "\n",
      "\n",
      "\n",
      "\n",
      "\n",
      "\n",
      "\n",
      "\n",
      "\n",
      "\n",
      "\n",
      "\n",
      "\n",
      "\n",
      "\n",
      "\n",
      "\n",
      "\n",
      "Close\n",
      "\n",
      "\n",
      "\n",
      "\n",
      "\n",
      "\n",
      "\n",
      "\n",
      "\n",
      "\n",
      "\n",
      "\n",
      "\n",
      "UCL Home\n",
      "Prospective students\n",
      "Current students\n",
      "Staff\n",
      "Give\n",
      "\n",
      "\n",
      " \n",
      "\n",
      "\n",
      "UCL Quantum Science and Technology Institute\n",
      "Home\n",
      "\n",
      "\n",
      "\n",
      "HomeStudy HereResearchNewsEventsInnovationOpportunitiesPeopleAboutContact Us\n",
      "\n",
      "UCL HomeUCL Quantum Science and Technology InstitutePeoplePeople\n",
      "People\n",
      "\n",
      "\n",
      "\n",
      "\n",
      "\n",
      " \n",
      "\n",
      "\n",
      "\n",
      "\n",
      "UCL HomeUCL Quantum Science and Technology InstitutePeople\n",
      "\n",
      "\n",
      "\n",
      "\n",
      "\n",
      "People\n",
      "\n",
      "      Email addresses should be appended with @ucl.ac.uk.\n",
      "\n",
      "    \n",
      " Key Contacts:Position:Name:Email:Director of UCLQProf John Mortonjjl.mortonMedia Enquiries, Comms, Innovation, OutreachHenry Bennieh.bennieDirector of the CDT in Quantum TechnologiesProf Paul Warburtonp.warburtonDirector of the MSc in Quantum TechnologiesProf Jonathan Oppenheimj.oppenheimDirector of the London Centre for NanotechnologyProf Andrew Fisherandrew.fisherCentre Manager of the CDT in Quantum TechnologiesMs Lopa Murgailopa.murgaiCentre Administrator of the CDT in Quantum TechnologiesMrs Mariana Iossifova-Kellym.iossifova-kellyAAssociate Lecturer of the CDT in Quantum TechnologiesMs Abbie Braya.bray\n",
      "\n",
      " Listings are alphabetical by surnameFaculty StaffName: Email:Area:Prof Samson Abramskys.abramskyQuantum algorithms, architectures, and complex systemsProf Peter Barkerp.barkerQuantum sensors and standards; Quantum interfaces and communicationProf Sougato Boses.boseQuantum interfaces and communication; Quantum algorithms, architectures, and complex systems Prof Dan Browned.browneQuantum algorithms, architectures, and complex systemsDr Mark Buitelaarm.buitelaarSolid state quantum processors; Quantum sensors and standardsDr Hubie Chenh.chen (append kcl.ac.uk)Quantum algorithms, computational complexityProf Peter Coveneyp.v.coveneyQuantum algorithms, architectures, and complex systemsDr Toby Cubittt.cubittQuantum algorithms, architectures and complex systemsDr Neil Cursonn.cursonSolid state quantum processorsProf Agapi Emmanouilidoua.emmanouilidouAttosecond and Free-Electron-Laser Science Theory GroupProf Carla Figueira De Morisson Fariac.fariaQuantum algorithms, architectures and complex systemsProf Andrew Fisherandrew.fisherQuantum algorithms, architectures, and complex systems; Solid state quantum processorsProf Andrew Greenandrew.green Quantum algorithms, architectures, and complex systemsDr Roland Guichardr.guichardQuantum software, Quantum SimulatorsDr Mark Herbsterm.herbsterQuantum algorithms, architectures, and complex systemsProf Stephen Hogans.hoganQuantum interfaces and communication; Quantum sensors and standardsDr Hidekazu Kurebayashih.kurebayashiQuantum control of spin states and spin transport. Quantum spintronics.Dr Lluis Masanesl.masanesQuantum interfaces and communication, Qauntum algorithms, architectures, and complex systemsProf Tania Monteirot.monteiroQuantum sensors and standardsProf John Mortonjjl.mortonSolid state quantum processorsProf Alexandra Olaya-Castroa.olayaQuantum algorithms, architectures, and complex systemsProf Jonathan Oppenheimj.oppenheimQuantum algorithms, architectures, and complex systems Dr Arijeet Pala.palQuantum algorithms, architectures, and complex systems; Solid state quantum processorsDr Nicolae Panoiun.panoiuQuantum plasmonicsProf Hiranya Peirish.peirisQuantum technologies for fundamental physicsProf Sir Michael Pepper FRSmichael.pepperQuantum transport in semiconductor nanostructuresProf Massimiliamo (Massi) Pontilm.pontilQuantum-enhanced approaches to machine learning and pattern recognitionProf Andrew Pontzena.pontzenQuantum technologies for fundamental physicsProf Ferruccio Renzonif.renzoniQuantum sensors and standardsDr Ed Romanse.romansQuantum sensors and standardsDr Ivan Runggerivan.rungger (append npl.co.uk)Quantum algorithms and architectures, and complex systemsDr Steven Schofields.schofield Atomic-scale quantum structures,Prof Alwyn Seedsa.seedsQuantum interfaces and communication; Solid state quantum processorsProf Alessio (Serafozzi) Serafinia.serafiniQuantum interfaces and communicationProf Simone Severinis.severiniQuantum algorithms, architectures, and complex systemsProf Marzena Szymanskam.szymanskaQuantum algorithms, architectures, and complex systemsProf Paul Warburtonp.warburtonQuantum sensors and standardResearch & Postdoctoral StaffName:Email:Supervisor:Area:Dr Fabiano Andradef.andradeDr Simone SeveriniQuantum Algorithms, Architectures, and Complex SystemsDr Henry Banksh.banksProf Agapi EmmanouilidouAttosecond and Free-Electron-Laser Science Theory GroupDr Abolfazl Bayatabolfazl.bayatProf Sougato BoseQuantum Algorithms, Architectures, and Complex Systems; Quantum Interfaces and CommunicationDr Niko Breuckmannn.breuckmannProf Dan BrowneQuantum Algorithms, Architectures and Complex SystemsDr Simon Burtons.burtonProf Dan BrowneQuantum Algorithms, Architectures and Complex SystemsDr Shuxiang Cao-Prof Simone Severini, Dr Mark HerbsterQuantum Algorithms, Architectures and Complex SystemsDr Galbadrakh Dagvadorjg.dagvadorjDr Marzena SyzmanskaQuantum Algorithms, Architectures, and Complex SystemsDr Adam Dellera.dellerProfessors Stephen HoganQuantum Interfaces and communication; Quantum sensors and standardsDr Nadish de Silvanadish.desilvaProf Simone Severini, Dr Toby CubittQuantum Algorithms, Architectures and Complex SystemsDr Yanlong Fangyanlong.fangProf Paul Warburton, Dr Peter MountneyQuantum Sensors and Standards, Quantum Algorithms, Architectures and Complex SystemsDr Michael Fogartym.fogartyProf John MortonSolid State Quantum ProcessorsDr Louis Fry-Bouriauxl.fry-bouriauxProf Paul WarburtonQuantum Sensors and StandardsDr Chris Grahamc.grahamProf Alwyn SeedsQuantum Interfaces and CommunicationDr Roland Guichardr.guichardDr Tania MonteiroQuantum Sensors and StandardsDr Rodolfo Hermansr.hermansProf Alwyn SeedsQuantum Algorithms, Architectures, and Complex SystemsDr Oscar Kennedyoscar.kennedyProf John Morton Solid State Quantum ProcessorsDr Luca Marmugil.marmugiProf Ferruccio RenzoniQuantum Sensors and StandardsDr Alberto Ottolenghia.ottolenghiProf Simone SeveriniQuantum Algorithms, Architectures and Complex SystemsDr Anna Pappaa.pappaProf Dan BrowneQuantum Interfaces and CommuicationsDr Katie Porschk.porschProf Paul WarburtonQuantum sensors and standardsDr Taylor Stockt.stockDr Neil CursonSolid State Quantum ProcessorsDr Michela Venturellimichela.venturelli.13Prof Ferruccio RenzoniQuantum Sensors and StandardsDr Byron Villisb.villisDr Mark BuitelaarQuantum Sensors and Standards, Solid State Quantum ProcessorsDr Alejandro Zamoraa.zamoraDr Marzena SzymanskaQuantum Algorithms, Architectures and Complex SystemsDr Christoph Zollitschc.zollitschProf John MortonSolid State Quantum ProcessorsPhD & CDT StudentsName:Email:Area:Entry Year:Shirwan Abdullahshirwan.abdullah.11--Joseph Alexanderjoseph.alexander.18-2018Nedeen Al-Sharifnedeen.sharif.13Quantum Sensors and Standards-Pavlos Apostolidispavlos.apostolidis.11--Daniel Armedaniel.arme.18-2018Fariha Azadfariha.azad.18-2018Robert Banksrobert.banks.20-2020Cerys Barlow Myerscerys.myers.20-2020Marcello Benedettimarcello.benedetti.16-2016Debarati Bhattacharyad.bhattacharyaAttosecond and Free-Electron-Laser Science Theory Group2020Itsaso Blancoitsaso.blanco.16-2020Abbie Braya.brayQuantum Effects in Strong-Field and Attosecond Physics2018Paul Brookspaul.brooks.15Cavity QED2015Padraic Calpinpadraic.calpin.15Simulating Quantum Circuits2015Hongxiang Chenh.chen.17-2017Heloise Chometheloise.chomet.12Quantum Effects in Strong-Field and Attosecond Physics2017Virginia Cirianovirginia.ciriano.17Solid state quantum computing with quantum dots2017Claudia Clarkeclaudia.clarke.14Quantum Thermodynamics2014Laura Clintonlaura.clinton.17Hybrid digital-analogue quantum simulation2017Yuval Cohenyuval.cohen.17-2017Gioele Consanigioele.consani.16-2016Procopios Constantinouprocopios.constantinou.16-2016Pierandrea Contipierandrea.conti.16Solid State Quantum Processors2016James Dborinjames.dborin.18-2018Cameron Deanscameron.deans.14Quantum Sensors2014Charles Derbycharles.derby.17Quantum simulation of fermionic systems2017Gavin Doldgavin.dold.15Hybrid superconductor-silicon devices2015Felix Donaldsonfelix.donaldson.18-2018Jingyu Duanj.duan.17Solid State Quantum Processors2017Jack Dunhamjack.dunham.20Quantum Algorithms, Architectures & Complex Systems2020Thomas Farshit.farshi.17Quantum pseudo-randomness2017Abdulah Fawazabdulah.fawaz.16Quantum machine learning2016Alex Ferriera.ferrier--Matthew Flindersmatthew.flinders.16Macroscopoc Quantum Superpositions2016Hayden Fuhayden.fu.14-2018Thomas Galleythomas.galley.14Post-Quantum Cryptography2014Klaudia Gawlasklaudia.gawlas.13--Kyriakos Georgiadeskyriacos.georgiades.18-2018Alexandros Giatzogloualexandros.giatzoglou.15--Tom Godfrey---Lesley Goverlesley.gover.20-2020Edward Grantedward.grant.16-2016John Grayjohn.gray.14Many-body Quantum Dynamics2014Leon Guerreroleon.guerrero.21Solid State Quantum Processors2021Antonis Hadjipittasa.hadjipittas.16Attosecond and Free-Electron-Laser Science Theory Group Fagin Halesfagin.hales.17-2017Andrew Hallamandrew.hallam.10Tensor Networks2014Farhan Haniffarhan.hanif.17-2018Alfred Harwoodalfred.harwood.14Quantum control2018James Heffordjames.hefford.18-2018Luciana Henautluciana.henaut.14Quantum computing and Communication2015Oscar Higgottoscar.higgott.18-2018Thomas Hirdthomas.hird.16-2016Thomas Holden-Dyethomas.holden-dye.21Quantum algorithms, architectures, and complex systems2021Amy Hopperamy.hopper.18-2018Michael Hynesmichael.hynes.18-2018Krishna Jadejakrishna.jadeja.13--Robert Jirschikr.jirschik.13--Richard Jugginsrichard.juggins.14-2014Gareth Jonesgareth.jones.16Hybrid Quantum Systems2016Peter Jonespeter.jones.21-2021Lindsey Kearylindsey.keary.17-2017Kumail Kermallikumail.kermalli.16Quantum Interfaces and Communication2020Eva Kilianeva.kilian.18-2018Tamara Kohlertamara.kohler.16Quantum Simulation2016Dominik Kufeldominik.kufel.17Quantum Algorithms, Architectures and Complex Systems2021Constance Laineconstance.laine.19Solid State Quantum Processors2021Thao Lethao.le.16Quantum Darwinism2016Cristóbal Lledóc.lledo.17-2017Kin lan Lokin.lo.20-2020Yuen San Loyuen.lo.18-2018Joshua Lockhartjoshua.lockhart.14Quantum Information and Algorithms2014Eric Lundgreneric.lundgren.12--Oliver Luntoliver.lunt.17Non-equilibrium phases of Matter2017John Mansirjoin.mansir.12Solid State Quantum Processors-Ryan Marshmanr.marshman.17-2017Louise McCaullouise.mccaul.21-2021Conor McKeeverconor.mckeever.16Out of Equilibrium Systems and Tensor Network Methods2016Madalina Mironiucmadalina.mironiuc.20 2020Alexandre Morganalexandre.morgan.15Quantum devices with Rydberg Atoms2015James Morleyjames.morley.15Open Quantum Systems2015Miles Mountneymiles.mountney.20Attosecond and Free-Electron-Laser Science Theory Group2020James O'Sullivanjames.osullivan.16Solid State Quantum Processors2016Alexander Owensa.owens.17-2017James Palmerjames.palmer.15Quantum Sensors and Standards2015Sofia Patomäkisofia.patomaki.17Silicon Spin Qubit Devices2017Andrew Pattersonandrew.patterson.10Quantum software for simulation2017Arthur PesahucapacpQuantum Error Correction2020Tanapoom Poomaradeetanapoom.poomaradee.14--Jamie Potterjamie.potter.16Superconducting Quantum Devices2016Jessica Powelljessica.powell.18-2018Sofia Qvarfortsofia.qvarfot.15Quantum Metrology and Qauantum Gravity2015Alexis Rallialexis.ralli.18-2018Andrea Rocchettoa.rocchettoQuantum Machine Learning-Hasan Sayginelhasan.sayginel.17Quantum Algorithms, Architectures & Complex Systems2021Thomas Scrubythomas.scruby.17Quantum Error Correction2017James Seddonjames.seddon.15Resource Theories of Magic2016Yi Shiyi.shi.21Solid state quantum processors2021Shashvat Shuklashashvat.shukla.21Quantum Algorithms, Architectures & Complex Systems2021Martyna Sienkiewiczmartyna.sienkiewicz.16-2021Carlo Sparaciaricarlo.sparaciari.14Quantum Thermodynamics2014Matthew Sparksmatthew.sparks.15--Maria Stasinoimaria.stasinou.16Quantum Causality in Process Theories2016Guy Sutcliffeguy.sutcliffe.20-2020Thomas Swiftthomas.swift.20Solid state quantum processors2020Matthew Tammatthew.tam.17-2021Edward Thomasedward.thomas.18-2018Jake Tommeyjake.tommey.17Waveguide QED with Rydberg Atoms2017Lisa Tsefai.tse.13Quantum Algorithms for Machine Learning2017Nuttamas Tubsrinuannuttamas.tubsrinuan.20Quantum sensors and standards2020George Umbrarescugeorge.umbrarescu.20Quantum Algorithms, Architectures, and Complex Systems2020Michael Vasmermichael.vasmer.15Quantum Error Correction2015Ana Villanueva Ruiz De Teminoucapvil-2020Daniel Walkerd.walker.14-2018James Watsonjames.watson.16Hamiltonian complexity and Many-Body Quantum Physics2016Timothy Weavingtimothy.weaving.20-2020James Williamsj.williams.18-2018Michael Williamsmichael.williams.20Quantum Simulation of Chemistry2020Matthew Wilsonmatthew.wilson.18-2018Max Wilson---David Wisedavid.wise.15Quantum architectures in Silicon2015Leornard Wossnigleonard.wossnig.17-2017Octavio Zapata-Fonsecao.fonseca--\n",
      "\n",
      "\n",
      "\n",
      "\n",
      "\n",
      "\n",
      "\n",
      "\n",
      "\n",
      "\n",
      "\n",
      "\n",
      "UCL facilities\n",
      "\n",
      "About UCL\n",
      "Faculties and departments\n",
      "Library\n",
      "Museums and Collections\n",
      "UCL Bloomsbury Theatre\n",
      "UCL Shop\n",
      "\n",
      "\n",
      "\n",
      "UCL locations\n",
      "\n",
      "Maps and buildings\n",
      "UCL and London\n",
      "UCL Global\n",
      "UCL East\n",
      "\n",
      "\n",
      "\n",
      "Connect with UCL\n",
      "\n",
      "Alumni\n",
      "Businesses\n",
      "Media Relations\n",
      "Jobs\n",
      "Support us\n",
      "\n",
      "\n",
      "\n",
      "\n",
      "\n",
      "\n",
      "\n",
      "\n",
      "\n",
      "\n",
      "\n",
      "\n",
      "\n",
      "\n",
      "University College London, Gower Street, London, WC1E 6BT Tel: +44 (0) 20 7679 2000\n",
      "\n",
      "\n",
      "Copyright © 2022 UCL\n",
      "Disclaimer\n",
      "Freedom of Information\n",
      "Accessibility\n",
      "Privacy and Cookies\n",
      "Slavery statement\n",
      "Contact Us\n",
      "\n",
      "\n",
      "\n",
      " \n",
      "\n",
      "\n",
      "\n",
      "\n",
      "\n",
      "\n",
      "\n",
      "\n",
      "\n",
      "\n",
      "\n",
      "<p class=\"brand__heading\">UCL Quantum Science and Technology Institute</p>\n",
      "[<p class=\"brand__heading\">UCL Quantum Science and Technology Institute</p>, <p><a href=\"https://www.london-nano.com/our-people/our-people-bios/abbie-bray\">Ms Abbie Bray</a></p>, <p>Listings are alphabetical by surname</p>, <p>a.emmanouilidou</p>, <p>Attosecond and Free-Electron-Laser Science Theory Group</p>, <p>Quantum algorithms, architectures, and complex systems</p>, <p>Quantum sensors and standard</p>, <p>Dr Fabiano Andrade</p>, <p>Attosecond and Free-Electron-Laser Science Theory Group</p>, <p>michela.venturelli.13</p>, <p>a.zamora</p>, <p>-</p>, <p>pavlos.apostolidis.11</p>, <p>robert.banks.20</p>, <p>marcello.benedetti.16</p>, <p>Debarati Bhattacharya</p>, <p>Itsaso Blanco</p>, <p>h.chen.17</p>, <p>yuval.cohen.17</p>, <p>procopios.constantinou.16</p>, <p>a.ferrier</p>, <p>klaudia.gawlas.13</p>, <p>alexandros.giatzoglou.15</p>, <p>Attosecond and Free-Electron-Laser Science Theory Group</p>, <p>krishna.jadeja.13</p>, <p>r.jirschik.13</p>, <p>richard.juggins.14</p>, <p>c.lledo.17</p>, <p>Eric Lundgren</p>, <p>eric.lundgren.12</p>, <p>r.marshman.17</p>, <p>james.osullivan.16</p>, <p>tanapoom.poomaradee.14</p>, <p>a.rocchetto</p>, <p>matthew.sparks.15</p>, <p>leonard.wossnig.17</p>, <p>o.fonseca</p>]\n"
     ]
    }
   ],
   "source": [
    "import requests\n",
    "from bs4 import BeautifulSoup\n",
    "r = requests.get(\"https://www.ucl.ac.uk/quantum/people\", proxies = { \"https\" : \"http://172.16.2.253:3128\"}) # method used is GET\n",
    "s = BeautifulSoup(r.content, \"html.parser\")\n",
    "print(r)\n",
    "print(s.text)\n",
    "print(s.p)\n",
    "print(s. find_all(\"p\"))\n",
    "# for i in (s.find_all('a')):\n",
    "#     print(i.get('href'))"
   ]
  },
  {
   "cell_type": "code",
   "execution_count": 35,
   "metadata": {},
   "outputs": [],
   "source": [
    "url = 'https://httpbin.org/post'\n",
    "data = {}"
   ]
  },
  {
   "cell_type": "code",
   "execution_count": 36,
   "metadata": {},
   "outputs": [
    {
     "name": "stdout",
     "output_type": "stream",
     "text": [
      "None\n"
     ]
    }
   ],
   "source": [
    "r = requests.get(\"https://scholar.google.com/citations?view_op=view_org&hl=en&org=17561560984237518691\", proxies = { \"https\" : \"http://172.16.2.253:3128\"}) # method used is GET\n",
    "s = BeautifulSoup(r.content, \"html.parser\")\n",
    "department = s.p\n",
    "print(s.p)"
   ]
  },
  {
   "cell_type": "code",
   "execution_count": 37,
   "metadata": {},
   "outputs": [],
   "source": [
    "for i in s.select(\"div.jwts_tabbertab jwts_tabbertabhide\"):\n",
    "    print(i.select)\n",
    "    "
   ]
  },
  {
   "cell_type": "code",
   "execution_count": 38,
   "metadata": {},
   "outputs": [],
   "source": [
    "# # Webscraping the IISER Mohali site's department place\n",
    "# r = requests.get(\"https://www.iisermohali.ac.in/faculty/people/faculty\", proxies = { \"https\" : \"http://172.16.2.251:3128\"}) # method used is GET\n",
    "# s = BeautifulSoup(r.content, \"html.parser\")\n",
    "# # print(r)\n",
    "# pp = s.find_all(\"a\")\n",
    "# for i in range(len(pp)):\n",
    "#     print(pp[i].text)"
   ]
  },
  {
   "cell_type": "code",
   "execution_count": 39,
   "metadata": {},
   "outputs": [
    {
     "name": "stdout",
     "output_type": "stream",
     "text": [
      "Close\n",
      "UCL Home\n",
      "Prospective students\n",
      "Current students\n",
      "Staff\n",
      "Give\n",
      "Home\n",
      "Home\n",
      "Study Here\n",
      "Research\n",
      "News\n",
      "Events\n",
      "Innovation\n",
      "Opportunities\n",
      "People\n",
      "About\n",
      "Contact Us\n",
      "UCL Home\n",
      "UCL Quantum Science and Technology Institute\n",
      "People\n",
      "People\n",
      "People\n",
      "\n",
      "UCL Home\n",
      "UCL Quantum Science and Technology Institute\n",
      "People\n",
      "Prof John Morton\n",
      "Henry Bennie\n",
      "Prof Paul Warburton\n",
      "Prof Jonathan Oppenheim\n",
      "Prof Andrew Fisher\n",
      "Ms Lopa Murgai\n",
      "Mrs Mariana Iossifova-Kelly\n",
      "Ms Abbie Bray\n",
      "Faculty Staff\n",
      "Prof Samson Abramsky\n",
      "Prof Peter Barker\n",
      "Prof Sougato Bose\n",
      "Prof Dan Browne\n",
      "Dr Mark Buitelaar\n",
      "Dr Hubie Chen\n",
      "Prof Peter Coveney\n",
      "Dr Toby Cubitt\n",
      "Dr Neil Curson\n",
      "Prof Agapi Emmanouilidou\n",
      "Prof Carla Figueira De Morisson Faria\n",
      "Prof Andrew Fisher\n",
      "Prof Andrew Green\n",
      "Dr Roland Guichard\n",
      "Dr Mark Herbster\n",
      "Prof Stephen Hogan\n",
      "Dr Hidekazu Kurebayashi\n",
      "Dr Lluis Masanes\n",
      "Prof Tania Monteiro\n",
      "Prof John Morton\n",
      "Prof Alexandra Olaya-Castro\n",
      "Prof Jonathan Oppenheim\n",
      "Dr Arijeet Pal\n",
      "Dr Nicolae Panoiu\n",
      "Prof Hiranya Peiris\n",
      "Prof Sir Michael Pepper FRS\n",
      "Prof Massimiliamo (Massi) Pontil\n",
      "Prof Andrew Pontzen\n",
      "Prof Ferruccio Renzoni\n",
      "Dr Ed Romans\n",
      "Dr Ivan Rungger\n",
      "Dr Steven Schofield\n",
      "Prof Alwyn Seeds\n",
      "Prof Alessio (Serafozzi) Serafini\n",
      "Prof Simone Severini\n",
      "Prof Marzena Szymanska\n",
      "\n",
      "Prof Paul Warburton\n",
      "Research & Postdoctoral Staff\n",
      "PhD & CDT Students\n",
      "About UCL\n",
      "Faculties and departments\n",
      "Library\n",
      "Museums and Collections\n",
      "UCL Bloomsbury Theatre\n",
      "UCL Shop\n",
      "Maps and buildings\n",
      "UCL and London\n",
      "UCL Global\n",
      "UCL East\n",
      "Alumni\n",
      "Businesses\n",
      "Media Relations\n",
      "Jobs\n",
      "Support us\n",
      "\n",
      "\n",
      "\n",
      "\n",
      "\n",
      "\n",
      "\n",
      "Disclaimer\n",
      "Freedom of Information\n",
      "Accessibility\n",
      "Privacy and Cookies\n",
      "Slavery statement\n",
      "Contact Us\n"
     ]
    }
   ],
   "source": [
    "# Webscraping the IISER Mohali site's department place\n",
    "r = requests.get(\"https://www.ucl.ac.uk/quantum/people\", proxies = { \"https\" : \"http://172.16.2.251:3128\"}) # method used is GET\n",
    "s = BeautifulSoup(r.content, \"html.parser\")\n",
    "# print(r)\n",
    "pp = s.find_all(\"a\")\n",
    "prof_ucl = []\n",
    "for i in range(len(pp)):\n",
    "    print(pp[i].text)\n",
    "    if (i>34 and i<73 and pp[i].text != \"\"):\n",
    "        if (pp[i].text == \"Prof\\xa0Marzena Szymanska\"):\n",
    "            prof_ucl.append(\"Prof Marzena Szymanska\")\n",
    "        else:\n",
    "            prof_ucl.append(pp[i].text)\n"
   ]
  },
  {
   "cell_type": "code",
   "execution_count": 40,
   "metadata": {},
   "outputs": [],
   "source": [
    "prof = []\n",
    "links = []\n",
    "for i in prof_ucl:\n",
    "    string = \"\"\n",
    "    i = i.replace(\"(\",\"%28\")\n",
    "    i = i.replace(\")\",\"%29\")\n",
    "    for k in range(1, len(i.split(\" \"))):\n",
    "        if(k == len(i.split(\" \"))-1):\n",
    "            string += i.split(\" \")[k]\n",
    "        else:\n",
    "            string += i.split(\" \")[k] + \"+\"\n",
    "    prof.append(string)\n",
    "    links.append(\"https://scholar.google.com/citations?hl=en&view_op=search_authors&mauthors=\" + string + \"&btnG=\")\n",
    "\n"
   ]
  },
  {
   "cell_type": "code",
   "execution_count": 162,
   "metadata": {},
   "outputs": [
    {
     "ename": "KeyboardInterrupt",
     "evalue": "",
     "output_type": "error",
     "traceback": [
      "\u001b[1;31m---------------------------------------------------------------------------\u001b[0m",
      "\u001b[1;31mKeyboardInterrupt\u001b[0m                         Traceback (most recent call last)",
      "\u001b[1;32m~\\AppData\\Local\\Temp/ipykernel_24812/1947867544.py\u001b[0m in \u001b[0;36m<module>\u001b[1;34m\u001b[0m\n\u001b[0;32m      2\u001b[0m \u001b[0mi\u001b[0m \u001b[1;33m=\u001b[0m \u001b[1;36m0\u001b[0m\u001b[1;33m\u001b[0m\u001b[1;33m\u001b[0m\u001b[0m\n\u001b[0;32m      3\u001b[0m \u001b[1;32mfor\u001b[0m \u001b[0mlink\u001b[0m \u001b[1;32min\u001b[0m \u001b[0mlinks\u001b[0m\u001b[1;33m:\u001b[0m\u001b[1;33m\u001b[0m\u001b[1;33m\u001b[0m\u001b[0m\n\u001b[1;32m----> 4\u001b[1;33m     \u001b[0mr\u001b[0m \u001b[1;33m=\u001b[0m \u001b[0mrequests\u001b[0m\u001b[1;33m.\u001b[0m\u001b[0mget\u001b[0m\u001b[1;33m(\u001b[0m\u001b[0mlink\u001b[0m\u001b[1;33m,\u001b[0m \u001b[0mproxies\u001b[0m \u001b[1;33m=\u001b[0m \u001b[1;33m{\u001b[0m \u001b[1;34m\"https\"\u001b[0m \u001b[1;33m:\u001b[0m \u001b[1;34m\"http://172.16.2.251:3128\"\u001b[0m\u001b[1;33m}\u001b[0m\u001b[1;33m)\u001b[0m \u001b[1;31m# method used is GET\u001b[0m\u001b[1;33m\u001b[0m\u001b[1;33m\u001b[0m\u001b[0m\n\u001b[0m\u001b[0;32m      5\u001b[0m     \u001b[0ms\u001b[0m \u001b[1;33m=\u001b[0m \u001b[0mBeautifulSoup\u001b[0m\u001b[1;33m(\u001b[0m\u001b[0mr\u001b[0m\u001b[1;33m.\u001b[0m\u001b[0mcontent\u001b[0m\u001b[1;33m,\u001b[0m \u001b[1;34m\"html.parser\"\u001b[0m\u001b[1;33m)\u001b[0m\u001b[1;33m\u001b[0m\u001b[1;33m\u001b[0m\u001b[0m\n\u001b[0;32m      6\u001b[0m     \u001b[1;31m# print(r)\u001b[0m\u001b[1;33m\u001b[0m\u001b[1;33m\u001b[0m\u001b[0m\n",
      "\u001b[1;32mc:\\Users\\ajays\\anaconda3\\lib\\site-packages\\requests\\api.py\u001b[0m in \u001b[0;36mget\u001b[1;34m(url, params, **kwargs)\u001b[0m\n\u001b[0;32m     73\u001b[0m     \"\"\"\n\u001b[0;32m     74\u001b[0m \u001b[1;33m\u001b[0m\u001b[0m\n\u001b[1;32m---> 75\u001b[1;33m     \u001b[1;32mreturn\u001b[0m \u001b[0mrequest\u001b[0m\u001b[1;33m(\u001b[0m\u001b[1;34m'get'\u001b[0m\u001b[1;33m,\u001b[0m \u001b[0murl\u001b[0m\u001b[1;33m,\u001b[0m \u001b[0mparams\u001b[0m\u001b[1;33m=\u001b[0m\u001b[0mparams\u001b[0m\u001b[1;33m,\u001b[0m \u001b[1;33m**\u001b[0m\u001b[0mkwargs\u001b[0m\u001b[1;33m)\u001b[0m\u001b[1;33m\u001b[0m\u001b[1;33m\u001b[0m\u001b[0m\n\u001b[0m\u001b[0;32m     76\u001b[0m \u001b[1;33m\u001b[0m\u001b[0m\n\u001b[0;32m     77\u001b[0m \u001b[1;33m\u001b[0m\u001b[0m\n",
      "\u001b[1;32mc:\\Users\\ajays\\anaconda3\\lib\\site-packages\\requests\\api.py\u001b[0m in \u001b[0;36mrequest\u001b[1;34m(method, url, **kwargs)\u001b[0m\n\u001b[0;32m     59\u001b[0m     \u001b[1;31m# cases, and look like a memory leak in others.\u001b[0m\u001b[1;33m\u001b[0m\u001b[1;33m\u001b[0m\u001b[0m\n\u001b[0;32m     60\u001b[0m     \u001b[1;32mwith\u001b[0m \u001b[0msessions\u001b[0m\u001b[1;33m.\u001b[0m\u001b[0mSession\u001b[0m\u001b[1;33m(\u001b[0m\u001b[1;33m)\u001b[0m \u001b[1;32mas\u001b[0m \u001b[0msession\u001b[0m\u001b[1;33m:\u001b[0m\u001b[1;33m\u001b[0m\u001b[1;33m\u001b[0m\u001b[0m\n\u001b[1;32m---> 61\u001b[1;33m         \u001b[1;32mreturn\u001b[0m \u001b[0msession\u001b[0m\u001b[1;33m.\u001b[0m\u001b[0mrequest\u001b[0m\u001b[1;33m(\u001b[0m\u001b[0mmethod\u001b[0m\u001b[1;33m=\u001b[0m\u001b[0mmethod\u001b[0m\u001b[1;33m,\u001b[0m \u001b[0murl\u001b[0m\u001b[1;33m=\u001b[0m\u001b[0murl\u001b[0m\u001b[1;33m,\u001b[0m \u001b[1;33m**\u001b[0m\u001b[0mkwargs\u001b[0m\u001b[1;33m)\u001b[0m\u001b[1;33m\u001b[0m\u001b[1;33m\u001b[0m\u001b[0m\n\u001b[0m\u001b[0;32m     62\u001b[0m \u001b[1;33m\u001b[0m\u001b[0m\n\u001b[0;32m     63\u001b[0m \u001b[1;33m\u001b[0m\u001b[0m\n",
      "\u001b[1;32mc:\\Users\\ajays\\anaconda3\\lib\\site-packages\\requests\\sessions.py\u001b[0m in \u001b[0;36mrequest\u001b[1;34m(self, method, url, params, data, headers, cookies, files, auth, timeout, allow_redirects, proxies, hooks, stream, verify, cert, json)\u001b[0m\n\u001b[0;32m    540\u001b[0m         }\n\u001b[0;32m    541\u001b[0m         \u001b[0msend_kwargs\u001b[0m\u001b[1;33m.\u001b[0m\u001b[0mupdate\u001b[0m\u001b[1;33m(\u001b[0m\u001b[0msettings\u001b[0m\u001b[1;33m)\u001b[0m\u001b[1;33m\u001b[0m\u001b[1;33m\u001b[0m\u001b[0m\n\u001b[1;32m--> 542\u001b[1;33m         \u001b[0mresp\u001b[0m \u001b[1;33m=\u001b[0m \u001b[0mself\u001b[0m\u001b[1;33m.\u001b[0m\u001b[0msend\u001b[0m\u001b[1;33m(\u001b[0m\u001b[0mprep\u001b[0m\u001b[1;33m,\u001b[0m \u001b[1;33m**\u001b[0m\u001b[0msend_kwargs\u001b[0m\u001b[1;33m)\u001b[0m\u001b[1;33m\u001b[0m\u001b[1;33m\u001b[0m\u001b[0m\n\u001b[0m\u001b[0;32m    543\u001b[0m \u001b[1;33m\u001b[0m\u001b[0m\n\u001b[0;32m    544\u001b[0m         \u001b[1;32mreturn\u001b[0m \u001b[0mresp\u001b[0m\u001b[1;33m\u001b[0m\u001b[1;33m\u001b[0m\u001b[0m\n",
      "\u001b[1;32mc:\\Users\\ajays\\anaconda3\\lib\\site-packages\\requests\\sessions.py\u001b[0m in \u001b[0;36msend\u001b[1;34m(self, request, **kwargs)\u001b[0m\n\u001b[0;32m    653\u001b[0m \u001b[1;33m\u001b[0m\u001b[0m\n\u001b[0;32m    654\u001b[0m         \u001b[1;31m# Send the request\u001b[0m\u001b[1;33m\u001b[0m\u001b[1;33m\u001b[0m\u001b[0m\n\u001b[1;32m--> 655\u001b[1;33m         \u001b[0mr\u001b[0m \u001b[1;33m=\u001b[0m \u001b[0madapter\u001b[0m\u001b[1;33m.\u001b[0m\u001b[0msend\u001b[0m\u001b[1;33m(\u001b[0m\u001b[0mrequest\u001b[0m\u001b[1;33m,\u001b[0m \u001b[1;33m**\u001b[0m\u001b[0mkwargs\u001b[0m\u001b[1;33m)\u001b[0m\u001b[1;33m\u001b[0m\u001b[1;33m\u001b[0m\u001b[0m\n\u001b[0m\u001b[0;32m    656\u001b[0m \u001b[1;33m\u001b[0m\u001b[0m\n\u001b[0;32m    657\u001b[0m         \u001b[1;31m# Total elapsed time of the request (approximately)\u001b[0m\u001b[1;33m\u001b[0m\u001b[1;33m\u001b[0m\u001b[0m\n",
      "\u001b[1;32mc:\\Users\\ajays\\anaconda3\\lib\\site-packages\\requests\\adapters.py\u001b[0m in \u001b[0;36msend\u001b[1;34m(self, request, stream, timeout, verify, cert, proxies)\u001b[0m\n\u001b[0;32m    437\u001b[0m         \u001b[1;32mtry\u001b[0m\u001b[1;33m:\u001b[0m\u001b[1;33m\u001b[0m\u001b[1;33m\u001b[0m\u001b[0m\n\u001b[0;32m    438\u001b[0m             \u001b[1;32mif\u001b[0m \u001b[1;32mnot\u001b[0m \u001b[0mchunked\u001b[0m\u001b[1;33m:\u001b[0m\u001b[1;33m\u001b[0m\u001b[1;33m\u001b[0m\u001b[0m\n\u001b[1;32m--> 439\u001b[1;33m                 resp = conn.urlopen(\n\u001b[0m\u001b[0;32m    440\u001b[0m                     \u001b[0mmethod\u001b[0m\u001b[1;33m=\u001b[0m\u001b[0mrequest\u001b[0m\u001b[1;33m.\u001b[0m\u001b[0mmethod\u001b[0m\u001b[1;33m,\u001b[0m\u001b[1;33m\u001b[0m\u001b[1;33m\u001b[0m\u001b[0m\n\u001b[0;32m    441\u001b[0m                     \u001b[0murl\u001b[0m\u001b[1;33m=\u001b[0m\u001b[0murl\u001b[0m\u001b[1;33m,\u001b[0m\u001b[1;33m\u001b[0m\u001b[1;33m\u001b[0m\u001b[0m\n",
      "\u001b[1;32mc:\\Users\\ajays\\anaconda3\\lib\\site-packages\\urllib3\\connectionpool.py\u001b[0m in \u001b[0;36murlopen\u001b[1;34m(self, method, url, body, headers, retries, redirect, assert_same_host, timeout, pool_timeout, release_conn, chunked, body_pos, **response_kw)\u001b[0m\n\u001b[0;32m    697\u001b[0m \u001b[1;33m\u001b[0m\u001b[0m\n\u001b[0;32m    698\u001b[0m             \u001b[1;31m# Make the request on the httplib connection object.\u001b[0m\u001b[1;33m\u001b[0m\u001b[1;33m\u001b[0m\u001b[0m\n\u001b[1;32m--> 699\u001b[1;33m             httplib_response = self._make_request(\n\u001b[0m\u001b[0;32m    700\u001b[0m                 \u001b[0mconn\u001b[0m\u001b[1;33m,\u001b[0m\u001b[1;33m\u001b[0m\u001b[1;33m\u001b[0m\u001b[0m\n\u001b[0;32m    701\u001b[0m                 \u001b[0mmethod\u001b[0m\u001b[1;33m,\u001b[0m\u001b[1;33m\u001b[0m\u001b[1;33m\u001b[0m\u001b[0m\n",
      "\u001b[1;32mc:\\Users\\ajays\\anaconda3\\lib\\site-packages\\urllib3\\connectionpool.py\u001b[0m in \u001b[0;36m_make_request\u001b[1;34m(self, conn, method, url, timeout, chunked, **httplib_request_kw)\u001b[0m\n\u001b[0;32m    443\u001b[0m                     \u001b[1;31m# Python 3 (including for exceptions like SystemExit).\u001b[0m\u001b[1;33m\u001b[0m\u001b[1;33m\u001b[0m\u001b[0m\n\u001b[0;32m    444\u001b[0m                     \u001b[1;31m# Otherwise it looks like a bug in the code.\u001b[0m\u001b[1;33m\u001b[0m\u001b[1;33m\u001b[0m\u001b[0m\n\u001b[1;32m--> 445\u001b[1;33m                     \u001b[0msix\u001b[0m\u001b[1;33m.\u001b[0m\u001b[0mraise_from\u001b[0m\u001b[1;33m(\u001b[0m\u001b[0me\u001b[0m\u001b[1;33m,\u001b[0m \u001b[1;32mNone\u001b[0m\u001b[1;33m)\u001b[0m\u001b[1;33m\u001b[0m\u001b[1;33m\u001b[0m\u001b[0m\n\u001b[0m\u001b[0;32m    446\u001b[0m         \u001b[1;32mexcept\u001b[0m \u001b[1;33m(\u001b[0m\u001b[0mSocketTimeout\u001b[0m\u001b[1;33m,\u001b[0m \u001b[0mBaseSSLError\u001b[0m\u001b[1;33m,\u001b[0m \u001b[0mSocketError\u001b[0m\u001b[1;33m)\u001b[0m \u001b[1;32mas\u001b[0m \u001b[0me\u001b[0m\u001b[1;33m:\u001b[0m\u001b[1;33m\u001b[0m\u001b[1;33m\u001b[0m\u001b[0m\n\u001b[0;32m    447\u001b[0m             \u001b[0mself\u001b[0m\u001b[1;33m.\u001b[0m\u001b[0m_raise_timeout\u001b[0m\u001b[1;33m(\u001b[0m\u001b[0merr\u001b[0m\u001b[1;33m=\u001b[0m\u001b[0me\u001b[0m\u001b[1;33m,\u001b[0m \u001b[0murl\u001b[0m\u001b[1;33m=\u001b[0m\u001b[0murl\u001b[0m\u001b[1;33m,\u001b[0m \u001b[0mtimeout_value\u001b[0m\u001b[1;33m=\u001b[0m\u001b[0mread_timeout\u001b[0m\u001b[1;33m)\u001b[0m\u001b[1;33m\u001b[0m\u001b[1;33m\u001b[0m\u001b[0m\n",
      "\u001b[1;32mc:\\Users\\ajays\\anaconda3\\lib\\site-packages\\urllib3\\packages\\six.py\u001b[0m in \u001b[0;36mraise_from\u001b[1;34m(value, from_value)\u001b[0m\n",
      "\u001b[1;32mc:\\Users\\ajays\\anaconda3\\lib\\site-packages\\urllib3\\connectionpool.py\u001b[0m in \u001b[0;36m_make_request\u001b[1;34m(self, conn, method, url, timeout, chunked, **httplib_request_kw)\u001b[0m\n\u001b[0;32m    438\u001b[0m                 \u001b[1;31m# Python 3\u001b[0m\u001b[1;33m\u001b[0m\u001b[1;33m\u001b[0m\u001b[0m\n\u001b[0;32m    439\u001b[0m                 \u001b[1;32mtry\u001b[0m\u001b[1;33m:\u001b[0m\u001b[1;33m\u001b[0m\u001b[1;33m\u001b[0m\u001b[0m\n\u001b[1;32m--> 440\u001b[1;33m                     \u001b[0mhttplib_response\u001b[0m \u001b[1;33m=\u001b[0m \u001b[0mconn\u001b[0m\u001b[1;33m.\u001b[0m\u001b[0mgetresponse\u001b[0m\u001b[1;33m(\u001b[0m\u001b[1;33m)\u001b[0m\u001b[1;33m\u001b[0m\u001b[1;33m\u001b[0m\u001b[0m\n\u001b[0m\u001b[0;32m    441\u001b[0m                 \u001b[1;32mexcept\u001b[0m \u001b[0mBaseException\u001b[0m \u001b[1;32mas\u001b[0m \u001b[0me\u001b[0m\u001b[1;33m:\u001b[0m\u001b[1;33m\u001b[0m\u001b[1;33m\u001b[0m\u001b[0m\n\u001b[0;32m    442\u001b[0m                     \u001b[1;31m# Remove the TypeError from the exception chain in\u001b[0m\u001b[1;33m\u001b[0m\u001b[1;33m\u001b[0m\u001b[0m\n",
      "\u001b[1;32mc:\\Users\\ajays\\anaconda3\\lib\\http\\client.py\u001b[0m in \u001b[0;36mgetresponse\u001b[1;34m(self)\u001b[0m\n\u001b[0;32m   1369\u001b[0m         \u001b[1;32mtry\u001b[0m\u001b[1;33m:\u001b[0m\u001b[1;33m\u001b[0m\u001b[1;33m\u001b[0m\u001b[0m\n\u001b[0;32m   1370\u001b[0m             \u001b[1;32mtry\u001b[0m\u001b[1;33m:\u001b[0m\u001b[1;33m\u001b[0m\u001b[1;33m\u001b[0m\u001b[0m\n\u001b[1;32m-> 1371\u001b[1;33m                 \u001b[0mresponse\u001b[0m\u001b[1;33m.\u001b[0m\u001b[0mbegin\u001b[0m\u001b[1;33m(\u001b[0m\u001b[1;33m)\u001b[0m\u001b[1;33m\u001b[0m\u001b[1;33m\u001b[0m\u001b[0m\n\u001b[0m\u001b[0;32m   1372\u001b[0m             \u001b[1;32mexcept\u001b[0m \u001b[0mConnectionError\u001b[0m\u001b[1;33m:\u001b[0m\u001b[1;33m\u001b[0m\u001b[1;33m\u001b[0m\u001b[0m\n\u001b[0;32m   1373\u001b[0m                 \u001b[0mself\u001b[0m\u001b[1;33m.\u001b[0m\u001b[0mclose\u001b[0m\u001b[1;33m(\u001b[0m\u001b[1;33m)\u001b[0m\u001b[1;33m\u001b[0m\u001b[1;33m\u001b[0m\u001b[0m\n",
      "\u001b[1;32mc:\\Users\\ajays\\anaconda3\\lib\\http\\client.py\u001b[0m in \u001b[0;36mbegin\u001b[1;34m(self)\u001b[0m\n\u001b[0;32m    317\u001b[0m         \u001b[1;31m# read until we get a non-100 response\u001b[0m\u001b[1;33m\u001b[0m\u001b[1;33m\u001b[0m\u001b[0m\n\u001b[0;32m    318\u001b[0m         \u001b[1;32mwhile\u001b[0m \u001b[1;32mTrue\u001b[0m\u001b[1;33m:\u001b[0m\u001b[1;33m\u001b[0m\u001b[1;33m\u001b[0m\u001b[0m\n\u001b[1;32m--> 319\u001b[1;33m             \u001b[0mversion\u001b[0m\u001b[1;33m,\u001b[0m \u001b[0mstatus\u001b[0m\u001b[1;33m,\u001b[0m \u001b[0mreason\u001b[0m \u001b[1;33m=\u001b[0m \u001b[0mself\u001b[0m\u001b[1;33m.\u001b[0m\u001b[0m_read_status\u001b[0m\u001b[1;33m(\u001b[0m\u001b[1;33m)\u001b[0m\u001b[1;33m\u001b[0m\u001b[1;33m\u001b[0m\u001b[0m\n\u001b[0m\u001b[0;32m    320\u001b[0m             \u001b[1;32mif\u001b[0m \u001b[0mstatus\u001b[0m \u001b[1;33m!=\u001b[0m \u001b[0mCONTINUE\u001b[0m\u001b[1;33m:\u001b[0m\u001b[1;33m\u001b[0m\u001b[1;33m\u001b[0m\u001b[0m\n\u001b[0;32m    321\u001b[0m                 \u001b[1;32mbreak\u001b[0m\u001b[1;33m\u001b[0m\u001b[1;33m\u001b[0m\u001b[0m\n",
      "\u001b[1;32mc:\\Users\\ajays\\anaconda3\\lib\\http\\client.py\u001b[0m in \u001b[0;36m_read_status\u001b[1;34m(self)\u001b[0m\n\u001b[0;32m    278\u001b[0m \u001b[1;33m\u001b[0m\u001b[0m\n\u001b[0;32m    279\u001b[0m     \u001b[1;32mdef\u001b[0m \u001b[0m_read_status\u001b[0m\u001b[1;33m(\u001b[0m\u001b[0mself\u001b[0m\u001b[1;33m)\u001b[0m\u001b[1;33m:\u001b[0m\u001b[1;33m\u001b[0m\u001b[1;33m\u001b[0m\u001b[0m\n\u001b[1;32m--> 280\u001b[1;33m         \u001b[0mline\u001b[0m \u001b[1;33m=\u001b[0m \u001b[0mstr\u001b[0m\u001b[1;33m(\u001b[0m\u001b[0mself\u001b[0m\u001b[1;33m.\u001b[0m\u001b[0mfp\u001b[0m\u001b[1;33m.\u001b[0m\u001b[0mreadline\u001b[0m\u001b[1;33m(\u001b[0m\u001b[0m_MAXLINE\u001b[0m \u001b[1;33m+\u001b[0m \u001b[1;36m1\u001b[0m\u001b[1;33m)\u001b[0m\u001b[1;33m,\u001b[0m \u001b[1;34m\"iso-8859-1\"\u001b[0m\u001b[1;33m)\u001b[0m\u001b[1;33m\u001b[0m\u001b[1;33m\u001b[0m\u001b[0m\n\u001b[0m\u001b[0;32m    281\u001b[0m         \u001b[1;32mif\u001b[0m \u001b[0mlen\u001b[0m\u001b[1;33m(\u001b[0m\u001b[0mline\u001b[0m\u001b[1;33m)\u001b[0m \u001b[1;33m>\u001b[0m \u001b[0m_MAXLINE\u001b[0m\u001b[1;33m:\u001b[0m\u001b[1;33m\u001b[0m\u001b[1;33m\u001b[0m\u001b[0m\n\u001b[0;32m    282\u001b[0m             \u001b[1;32mraise\u001b[0m \u001b[0mLineTooLong\u001b[0m\u001b[1;33m(\u001b[0m\u001b[1;34m\"status line\"\u001b[0m\u001b[1;33m)\u001b[0m\u001b[1;33m\u001b[0m\u001b[1;33m\u001b[0m\u001b[0m\n",
      "\u001b[1;32mc:\\Users\\ajays\\anaconda3\\lib\\socket.py\u001b[0m in \u001b[0;36mreadinto\u001b[1;34m(self, b)\u001b[0m\n\u001b[0;32m    702\u001b[0m         \u001b[1;32mwhile\u001b[0m \u001b[1;32mTrue\u001b[0m\u001b[1;33m:\u001b[0m\u001b[1;33m\u001b[0m\u001b[1;33m\u001b[0m\u001b[0m\n\u001b[0;32m    703\u001b[0m             \u001b[1;32mtry\u001b[0m\u001b[1;33m:\u001b[0m\u001b[1;33m\u001b[0m\u001b[1;33m\u001b[0m\u001b[0m\n\u001b[1;32m--> 704\u001b[1;33m                 \u001b[1;32mreturn\u001b[0m \u001b[0mself\u001b[0m\u001b[1;33m.\u001b[0m\u001b[0m_sock\u001b[0m\u001b[1;33m.\u001b[0m\u001b[0mrecv_into\u001b[0m\u001b[1;33m(\u001b[0m\u001b[0mb\u001b[0m\u001b[1;33m)\u001b[0m\u001b[1;33m\u001b[0m\u001b[1;33m\u001b[0m\u001b[0m\n\u001b[0m\u001b[0;32m    705\u001b[0m             \u001b[1;32mexcept\u001b[0m \u001b[0mtimeout\u001b[0m\u001b[1;33m:\u001b[0m\u001b[1;33m\u001b[0m\u001b[1;33m\u001b[0m\u001b[0m\n\u001b[0;32m    706\u001b[0m                 \u001b[0mself\u001b[0m\u001b[1;33m.\u001b[0m\u001b[0m_timeout_occurred\u001b[0m \u001b[1;33m=\u001b[0m \u001b[1;32mTrue\u001b[0m\u001b[1;33m\u001b[0m\u001b[1;33m\u001b[0m\u001b[0m\n",
      "\u001b[1;32mc:\\Users\\ajays\\anaconda3\\lib\\ssl.py\u001b[0m in \u001b[0;36mrecv_into\u001b[1;34m(self, buffer, nbytes, flags)\u001b[0m\n\u001b[0;32m   1239\u001b[0m                   \u001b[1;34m\"non-zero flags not allowed in calls to recv_into() on %s\"\u001b[0m \u001b[1;33m%\u001b[0m\u001b[1;33m\u001b[0m\u001b[1;33m\u001b[0m\u001b[0m\n\u001b[0;32m   1240\u001b[0m                   self.__class__)\n\u001b[1;32m-> 1241\u001b[1;33m             \u001b[1;32mreturn\u001b[0m \u001b[0mself\u001b[0m\u001b[1;33m.\u001b[0m\u001b[0mread\u001b[0m\u001b[1;33m(\u001b[0m\u001b[0mnbytes\u001b[0m\u001b[1;33m,\u001b[0m \u001b[0mbuffer\u001b[0m\u001b[1;33m)\u001b[0m\u001b[1;33m\u001b[0m\u001b[1;33m\u001b[0m\u001b[0m\n\u001b[0m\u001b[0;32m   1242\u001b[0m         \u001b[1;32melse\u001b[0m\u001b[1;33m:\u001b[0m\u001b[1;33m\u001b[0m\u001b[1;33m\u001b[0m\u001b[0m\n\u001b[0;32m   1243\u001b[0m             \u001b[1;32mreturn\u001b[0m \u001b[0msuper\u001b[0m\u001b[1;33m(\u001b[0m\u001b[1;33m)\u001b[0m\u001b[1;33m.\u001b[0m\u001b[0mrecv_into\u001b[0m\u001b[1;33m(\u001b[0m\u001b[0mbuffer\u001b[0m\u001b[1;33m,\u001b[0m \u001b[0mnbytes\u001b[0m\u001b[1;33m,\u001b[0m \u001b[0mflags\u001b[0m\u001b[1;33m)\u001b[0m\u001b[1;33m\u001b[0m\u001b[1;33m\u001b[0m\u001b[0m\n",
      "\u001b[1;32mc:\\Users\\ajays\\anaconda3\\lib\\ssl.py\u001b[0m in \u001b[0;36mread\u001b[1;34m(self, len, buffer)\u001b[0m\n\u001b[0;32m   1097\u001b[0m         \u001b[1;32mtry\u001b[0m\u001b[1;33m:\u001b[0m\u001b[1;33m\u001b[0m\u001b[1;33m\u001b[0m\u001b[0m\n\u001b[0;32m   1098\u001b[0m             \u001b[1;32mif\u001b[0m \u001b[0mbuffer\u001b[0m \u001b[1;32mis\u001b[0m \u001b[1;32mnot\u001b[0m \u001b[1;32mNone\u001b[0m\u001b[1;33m:\u001b[0m\u001b[1;33m\u001b[0m\u001b[1;33m\u001b[0m\u001b[0m\n\u001b[1;32m-> 1099\u001b[1;33m                 \u001b[1;32mreturn\u001b[0m \u001b[0mself\u001b[0m\u001b[1;33m.\u001b[0m\u001b[0m_sslobj\u001b[0m\u001b[1;33m.\u001b[0m\u001b[0mread\u001b[0m\u001b[1;33m(\u001b[0m\u001b[0mlen\u001b[0m\u001b[1;33m,\u001b[0m \u001b[0mbuffer\u001b[0m\u001b[1;33m)\u001b[0m\u001b[1;33m\u001b[0m\u001b[1;33m\u001b[0m\u001b[0m\n\u001b[0m\u001b[0;32m   1100\u001b[0m             \u001b[1;32melse\u001b[0m\u001b[1;33m:\u001b[0m\u001b[1;33m\u001b[0m\u001b[1;33m\u001b[0m\u001b[0m\n\u001b[0;32m   1101\u001b[0m                 \u001b[1;32mreturn\u001b[0m \u001b[0mself\u001b[0m\u001b[1;33m.\u001b[0m\u001b[0m_sslobj\u001b[0m\u001b[1;33m.\u001b[0m\u001b[0mread\u001b[0m\u001b[1;33m(\u001b[0m\u001b[0mlen\u001b[0m\u001b[1;33m)\u001b[0m\u001b[1;33m\u001b[0m\u001b[1;33m\u001b[0m\u001b[0m\n",
      "\u001b[1;31mKeyboardInterrupt\u001b[0m: "
     ]
    }
   ],
   "source": [
    "final_prof_site = []\n",
    "i = 0\n",
    "for link in links:\n",
    "    r = requests.get(link, proxies = { \"https\" : \"http://172.16.2.251:3128\"}) # method used is GET\n",
    "    s = BeautifulSoup(r.content, \"html.parser\")\n",
    "    # print(r)\n",
    "    if (s.find(name = 'div' , attrs = {\"class\" : \"gs_ai_t\"}) == None):\n",
    "        print(\"Could not search :\", prof_ucl[i])\n",
    "    else:\n",
    "        final_prof_site.append(s.find(name = 'div' , attrs = {\"class\" : \"gs_ai_t\"}).find(name = 'h3' , attrs = {\"class\" : \"gs_ai_name\"}).a[\"href\"])\n",
    "    i += 1\n",
    "\n",
    "\n",
    "    "
   ]
  },
  {
   "cell_type": "code",
   "execution_count": 163,
   "metadata": {},
   "outputs": [
    {
     "name": "stdout",
     "output_type": "stream",
     "text": [
      "[['Samson Abramsky', ['16104', '3925'], ['58', '32'], ['126', '76']]]\n"
     ]
    }
   ],
   "source": [
    "#list of proffesors with each list having the data on professors with sometimes a list containing the article data \n",
    "#name, top 10 most cited articles (with citations and the year in which they were published), most recent 5 articles(with citations and the year in which they were published), overall citations, total number of citations in the last 5 years, h-index\n",
    "\n",
    "profile_data = [[]]    \n",
    "\n",
    "with open(\"profile.html\", \"r\") as html_file:\n",
    "    content = html_file.read()\n",
    "\n",
    "articles_highc = []      \n",
    "articles_recent = []\n",
    "soup = BeautifulSoup(content, \"lxml\")\n",
    "profile_data[0].append(soup.find(name = 'div' , attrs = {\"id\" : \"gsc_prf_in\"}).text)\n",
    "profile_data[0].append([soup.find_all(name = 'td' , attrs = {\"class\" : \"gsc_rsb_std\"})[0].text, soup.find_all(name = 'td' , attrs = {\"class\" : \"gsc_rsb_std\"})[1].text])\n",
    "profile_data[0].append([soup.find_all(name = 'td' , attrs = {\"class\" : \"gsc_rsb_std\"})[2].text, soup.find_all(name = 'td' , attrs = {\"class\" : \"gsc_rsb_std\"})[3].text])\n",
    "profile_data[0].append([soup.find_all(name = 'td' , attrs = {\"class\" : \"gsc_rsb_std\"})[4].text, soup.find_all(name = 'td' , attrs = {\"class\" : \"gsc_rsb_std\"})[5].text])\n",
    "\n",
    "for i in range(10):\n",
    "    articles_highc.append(soup.find_all(name = 'tr' , attrs = {\"class\" : \"gsc_a_tr\"})[i].a[\"href\"])\n",
    "\n",
    "\n",
    "print(profile_data)\n"
   ]
  },
  {
   "cell_type": "code",
   "execution_count": null,
   "metadata": {},
   "outputs": [],
   "source": []
  },
  {
   "cell_type": "code",
   "execution_count": 258,
   "metadata": {},
   "outputs": [],
   "source": [
    "\n",
    "with open(\"article_view.html\", \"r\") as html_file:\n",
    "    content = html_file.read()\n",
    "\n",
    "L = []\n",
    "soup = BeautifulSoup(content, \"lxml\")\n",
    "L.append(soup.find(name = 'div' , attrs = {\"id\" : \"gsc_oci_title\"}).text)                                                # Article Name\n",
    "\n",
    "columns = [\"Authors\", \"Publication date\", \"Description\"]\n",
    "for i in range(len(soup.find_all(name = 'div' , attrs = {\"class\" : \"gsc_oci_field\"}))):\n",
    "    for j in columns:\n",
    "        if (soup.find_all(name = 'div' , attrs = {\"class\" : \"gsc_oci_field\"})[i].text == j):\n",
    "            L.append(soup.find_all(name = 'div' , attrs = {\"class\" : \"gsc_oci_value\"})[i].text)\n",
    "\n",
    "    if (soup.find_all(name = 'div' , attrs = {\"class\" : \"gsc_oci_field\"})[i].text == \"Total citations\"):\n",
    "        L.append(soup.find_all(name = 'div' , attrs = {\"class\" : \"gsc_oci_value\"})[i].find(name = 'div' , attrs = {\"style\" : \"margin-bottom:1em\"}).text.split(\"by \")[1])      # Citations\n",
    "\n",
    "\n",
    "\n",
    "def article_scrape(url):\n",
    "    L = []\n",
    "    columns = [\"Authors\", \"Publication date\", \"Description\"]\n",
    "    \n",
    "    r = requests.get(url, proxies = { \"https\" : \"http://172.16.2.251:3128\"})\n",
    "    soup = BeautifulSoup(r.content, \"html.parser\")\n",
    "    \n",
    "    L.append(soup.find(name = 'div' , attrs = {\"id\" : \"gsc_oci_title\"}).text)                                                # Article Name\n",
    "    for i in range(len(soup.find_all(name = 'div' , attrs = {\"class\" : \"gsc_oci_field\"}))):\n",
    "        for j in columns:\n",
    "            if (soup.find_all(name = 'div' , attrs = {\"class\" : \"gsc_oci_field\"})[i].text == j):\n",
    "                L.append(soup.find_all(name = 'div' , attrs = {\"class\" : \"gsc_oci_value\"})[i].text)\n",
    "\n",
    "        if (soup.find_all(name = 'div' , attrs = {\"class\" : \"gsc_oci_field\"})[i].text == \"Total citations\"):\n",
    "            L.append(soup.find_all(name = 'div' , attrs = {\"class\" : \"gsc_oci_value\"})[i].find(name = 'div' , attrs = {\"style\" : \"margin-bottom:1em\"}).text.split(\"by \")[1])      # Citations\n",
    "\n",
    "    return L\n",
    "\n",
    "\n",
    "\n"
   ]
  },
  {
   "cell_type": "code",
   "execution_count": 257,
   "metadata": {},
   "outputs": [
    {
     "data": {
      "text/plain": [
       "['Domain theory',\n",
       " 'Samson Abramsky, Achim Jung',\n",
       " '1994/1/1',\n",
       " 'This text is based on the chapter Domain Theory in the Handbook for Logic in Computer Science, volume 3, edited by S. Abramsky, Dov M. Gabbay, and TS E. Maibaum, published by Clarendon Press, Oxford in 1994. While the numbering of all theorems and definitions has been kept the same, we have included comments and corrections which we have received over the years. For ease of reading, small typographical errors have simply been corrected. Where we felt the original text gave a misleading impression, we have included additional explanations, clearly marked as such.',\n",
       " '1646']"
      ]
     },
     "execution_count": 257,
     "metadata": {},
     "output_type": "execute_result"
    }
   ],
   "source": [
    "L"
   ]
  },
  {
   "cell_type": "code",
   "execution_count": 251,
   "metadata": {},
   "outputs": [
    {
     "ename": "AttributeError",
     "evalue": "ResultSet object has no attribute 'text'. You're probably treating a list of elements like a single element. Did you call find_all() when you meant to call find()?",
     "output_type": "error",
     "traceback": [
      "\u001b[1;31m---------------------------------------------------------------------------\u001b[0m",
      "\u001b[1;31mAttributeError\u001b[0m                            Traceback (most recent call last)",
      "\u001b[1;32m~\\AppData\\Local\\Temp/ipykernel_24812/944126740.py\u001b[0m in \u001b[0;36m<module>\u001b[1;34m\u001b[0m\n\u001b[1;32m----> 1\u001b[1;33m \u001b[0msoup\u001b[0m\u001b[1;33m.\u001b[0m\u001b[0mfind_all\u001b[0m\u001b[1;33m(\u001b[0m\u001b[0mname\u001b[0m \u001b[1;33m=\u001b[0m \u001b[1;34m'div'\u001b[0m \u001b[1;33m,\u001b[0m \u001b[0mattrs\u001b[0m \u001b[1;33m=\u001b[0m \u001b[1;33m{\u001b[0m\u001b[1;34m\"class\"\u001b[0m \u001b[1;33m:\u001b[0m \u001b[1;34m\"gsc_oci_value\"\u001b[0m\u001b[1;33m}\u001b[0m\u001b[1;33m)\u001b[0m\u001b[1;33m.\u001b[0m\u001b[0mtext\u001b[0m\u001b[1;33m\u001b[0m\u001b[1;33m\u001b[0m\u001b[0m\n\u001b[0m",
      "\u001b[1;32mc:\\Users\\ajays\\anaconda3\\lib\\site-packages\\bs4\\element.py\u001b[0m in \u001b[0;36m__getattr__\u001b[1;34m(self, key)\u001b[0m\n\u001b[0;32m   2251\u001b[0m     \u001b[1;32mdef\u001b[0m \u001b[0m__getattr__\u001b[0m\u001b[1;33m(\u001b[0m\u001b[0mself\u001b[0m\u001b[1;33m,\u001b[0m \u001b[0mkey\u001b[0m\u001b[1;33m)\u001b[0m\u001b[1;33m:\u001b[0m\u001b[1;33m\u001b[0m\u001b[1;33m\u001b[0m\u001b[0m\n\u001b[0;32m   2252\u001b[0m         \u001b[1;34m\"\"\"Raise a helpful exception to explain a common code fix.\"\"\"\u001b[0m\u001b[1;33m\u001b[0m\u001b[1;33m\u001b[0m\u001b[0m\n\u001b[1;32m-> 2253\u001b[1;33m         raise AttributeError(\n\u001b[0m\u001b[0;32m   2254\u001b[0m             \u001b[1;34m\"ResultSet object has no attribute '%s'. You're probably treating a list of elements like a single element. Did you call find_all() when you meant to call find()?\"\u001b[0m \u001b[1;33m%\u001b[0m \u001b[0mkey\u001b[0m\u001b[1;33m\u001b[0m\u001b[1;33m\u001b[0m\u001b[0m\n\u001b[0;32m   2255\u001b[0m         )\n",
      "\u001b[1;31mAttributeError\u001b[0m: ResultSet object has no attribute 'text'. You're probably treating a list of elements like a single element. Did you call find_all() when you meant to call find()?"
     ]
    }
   ],
   "source": [
    "soup.find_all(name = 'div' , attrs = {\"class\" : \"gsc_oci_value\"}).text"
   ]
  },
  {
   "cell_type": "code",
   "execution_count": 235,
   "metadata": {},
   "outputs": [
    {
     "data": {
      "text/plain": [
       "<div class=\"gsc_oci_value\"><div style=\"margin-bottom:1em\"><a href=\"https://scholar.google.com/scholar?oi=bibs&amp;hl=en&amp;cites=709985882886358776,10198719583655575554&amp;as_sdt=5\">Cited by 1646</a></div><div id=\"gsc_oci_graph_wrapper\"><div id=\"gsc_oci_graph\" style=\"width:922px;\"><div id=\"gsc_oci_graph_x\"></div><div id=\"gsc_oci_graph_bars\"><span class=\"gsc_oci_g_t\" style=\"left:0px\">1995</span><span class=\"gsc_oci_g_t\" style=\"left:33px\">1996</span><span class=\"gsc_oci_g_t\" style=\"left:66px\">1997</span><span class=\"gsc_oci_g_t\" style=\"left:99px\">1998</span><span class=\"gsc_oci_g_t\" style=\"left:132px\">1999</span><span class=\"gsc_oci_g_t\" style=\"left:165px\">2000</span><span class=\"gsc_oci_g_t\" style=\"left:198px\">2001</span><span class=\"gsc_oci_g_t\" style=\"left:231px\">2002</span><span class=\"gsc_oci_g_t\" style=\"left:264px\">2003</span><span class=\"gsc_oci_g_t\" style=\"left:297px\">2004</span><span class=\"gsc_oci_g_t\" style=\"left:330px\">2005</span><span class=\"gsc_oci_g_t\" style=\"left:363px\">2006</span><span class=\"gsc_oci_g_t\" style=\"left:396px\">2007</span><span class=\"gsc_oci_g_t\" style=\"left:429px\">2008</span><span class=\"gsc_oci_g_t\" style=\"left:462px\">2009</span><span class=\"gsc_oci_g_t\" style=\"left:495px\">2010</span><span class=\"gsc_oci_g_t\" style=\"left:528px\">2011</span><span class=\"gsc_oci_g_t\" style=\"left:561px\">2012</span><span class=\"gsc_oci_g_t\" style=\"left:594px\">2013</span><span class=\"gsc_oci_g_t\" style=\"left:627px\">2014</span><span class=\"gsc_oci_g_t\" style=\"left:660px\">2015</span><span class=\"gsc_oci_g_t\" style=\"left:693px\">2016</span><span class=\"gsc_oci_g_t\" style=\"left:726px\">2017</span><span class=\"gsc_oci_g_t\" style=\"left:759px\">2018</span><span class=\"gsc_oci_g_t\" style=\"left:792px\">2019</span><span class=\"gsc_oci_g_t\" style=\"left:825px\">2020</span><span class=\"gsc_oci_g_t\" style=\"left:858px\">2021</span><span class=\"gsc_oci_g_t\" style=\"left:891px\">2022</span><a class=\"gsc_oci_g_a\" href=\"https://scholar.google.com/scholar?oi=bibs&amp;hl=en&amp;cites=709985882886358776,10198719583655575554&amp;as_sdt=5&amp;as_ylo=1995&amp;as_yhi=1995\" style=\"left:5px;height:13px;top:44px;z-index:28\"><span class=\"gsc_oci_g_al\">20</span></a><a class=\"gsc_oci_g_a\" href=\"https://scholar.google.com/scholar?oi=bibs&amp;hl=en&amp;cites=709985882886358776,10198719583655575554&amp;as_sdt=5&amp;as_ylo=1996&amp;as_yhi=1996\" style=\"left:38px;height:21px;top:36px;z-index:27\"><span class=\"gsc_oci_g_al\">32</span></a><a class=\"gsc_oci_g_a\" href=\"https://scholar.google.com/scholar?oi=bibs&amp;hl=en&amp;cites=709985882886358776,10198719583655575554&amp;as_sdt=5&amp;as_ylo=1997&amp;as_yhi=1997\" style=\"left:71px;height:30px;top:27px;z-index:26\"><span class=\"gsc_oci_g_al\">46</span></a><a class=\"gsc_oci_g_a\" href=\"https://scholar.google.com/scholar?oi=bibs&amp;hl=en&amp;cites=709985882886358776,10198719583655575554&amp;as_sdt=5&amp;as_ylo=1998&amp;as_yhi=1998\" style=\"left:104px;height:22px;top:35px;z-index:25\"><span class=\"gsc_oci_g_al\">33</span></a><a class=\"gsc_oci_g_a\" href=\"https://scholar.google.com/scholar?oi=bibs&amp;hl=en&amp;cites=709985882886358776,10198719583655575554&amp;as_sdt=5&amp;as_ylo=1999&amp;as_yhi=1999\" style=\"left:137px;height:31px;top:26px;z-index:24\"><span class=\"gsc_oci_g_al\">48</span></a><a class=\"gsc_oci_g_a\" href=\"https://scholar.google.com/scholar?oi=bibs&amp;hl=en&amp;cites=709985882886358776,10198719583655575554&amp;as_sdt=5&amp;as_ylo=2000&amp;as_yhi=2000\" style=\"left:170px;height:23px;top:34px;z-index:23\"><span class=\"gsc_oci_g_al\">35</span></a><a class=\"gsc_oci_g_a\" href=\"https://scholar.google.com/scholar?oi=bibs&amp;hl=en&amp;cites=709985882886358776,10198719583655575554&amp;as_sdt=5&amp;as_ylo=2001&amp;as_yhi=2001\" style=\"left:203px;height:28px;top:29px;z-index:22\"><span class=\"gsc_oci_g_al\">43</span></a><a class=\"gsc_oci_g_a\" href=\"https://scholar.google.com/scholar?oi=bibs&amp;hl=en&amp;cites=709985882886358776,10198719583655575554&amp;as_sdt=5&amp;as_ylo=2002&amp;as_yhi=2002\" style=\"left:236px;height:31px;top:26px;z-index:21\"><span class=\"gsc_oci_g_al\">48</span></a><a class=\"gsc_oci_g_a\" href=\"https://scholar.google.com/scholar?oi=bibs&amp;hl=en&amp;cites=709985882886358776,10198719583655575554&amp;as_sdt=5&amp;as_ylo=2003&amp;as_yhi=2003\" style=\"left:269px;height:47px;top:10px;z-index:20\"><span class=\"gsc_oci_g_al\">71</span></a><a class=\"gsc_oci_g_a\" href=\"https://scholar.google.com/scholar?oi=bibs&amp;hl=en&amp;cites=709985882886358776,10198719583655575554&amp;as_sdt=5&amp;as_ylo=2004&amp;as_yhi=2004\" style=\"left:302px;height:53px;top:4px;z-index:19\"><span class=\"gsc_oci_g_al\">81</span></a><a class=\"gsc_oci_g_a\" href=\"https://scholar.google.com/scholar?oi=bibs&amp;hl=en&amp;cites=709985882886358776,10198719583655575554&amp;as_sdt=5&amp;as_ylo=2005&amp;as_yhi=2005\" style=\"left:335px;height:50px;top:7px;z-index:18\"><span class=\"gsc_oci_g_al\">76</span></a><a class=\"gsc_oci_g_a\" href=\"https://scholar.google.com/scholar?oi=bibs&amp;hl=en&amp;cites=709985882886358776,10198719583655575554&amp;as_sdt=5&amp;as_ylo=2006&amp;as_yhi=2006\" style=\"left:368px;height:53px;top:4px;z-index:17\"><span class=\"gsc_oci_g_al\">81</span></a><a class=\"gsc_oci_g_a\" href=\"https://scholar.google.com/scholar?oi=bibs&amp;hl=en&amp;cites=709985882886358776,10198719583655575554&amp;as_sdt=5&amp;as_ylo=2007&amp;as_yhi=2007\" style=\"left:401px;height:57px;top:0px;z-index:16\"><span class=\"gsc_oci_g_al\">87</span></a><a class=\"gsc_oci_g_a\" href=\"https://scholar.google.com/scholar?oi=bibs&amp;hl=en&amp;cites=709985882886358776,10198719583655575554&amp;as_sdt=5&amp;as_ylo=2008&amp;as_yhi=2008\" style=\"left:434px;height:52px;top:5px;z-index:15\"><span class=\"gsc_oci_g_al\">79</span></a><a class=\"gsc_oci_g_a\" href=\"https://scholar.google.com/scholar?oi=bibs&amp;hl=en&amp;cites=709985882886358776,10198719583655575554&amp;as_sdt=5&amp;as_ylo=2009&amp;as_yhi=2009\" style=\"left:467px;height:52px;top:5px;z-index:14\"><span class=\"gsc_oci_g_al\">80</span></a><a class=\"gsc_oci_g_a\" href=\"https://scholar.google.com/scholar?oi=bibs&amp;hl=en&amp;cites=709985882886358776,10198719583655575554&amp;as_sdt=5&amp;as_ylo=2010&amp;as_yhi=2010\" style=\"left:500px;height:40px;top:17px;z-index:13\"><span class=\"gsc_oci_g_al\">61</span></a><a class=\"gsc_oci_g_a\" href=\"https://scholar.google.com/scholar?oi=bibs&amp;hl=en&amp;cites=709985882886358776,10198719583655575554&amp;as_sdt=5&amp;as_ylo=2011&amp;as_yhi=2011\" style=\"left:533px;height:35px;top:22px;z-index:12\"><span class=\"gsc_oci_g_al\">54</span></a><a class=\"gsc_oci_g_a\" href=\"https://scholar.google.com/scholar?oi=bibs&amp;hl=en&amp;cites=709985882886358776,10198719583655575554&amp;as_sdt=5&amp;as_ylo=2012&amp;as_yhi=2012\" style=\"left:566px;height:37px;top:20px;z-index:11\"><span class=\"gsc_oci_g_al\">56</span></a><a class=\"gsc_oci_g_a\" href=\"https://scholar.google.com/scholar?oi=bibs&amp;hl=en&amp;cites=709985882886358776,10198719583655575554&amp;as_sdt=5&amp;as_ylo=2013&amp;as_yhi=2013\" style=\"left:599px;height:41px;top:16px;z-index:10\"><span class=\"gsc_oci_g_al\">62</span></a><a class=\"gsc_oci_g_a\" href=\"https://scholar.google.com/scholar?oi=bibs&amp;hl=en&amp;cites=709985882886358776,10198719583655575554&amp;as_sdt=5&amp;as_ylo=2014&amp;as_yhi=2014\" style=\"left:632px;height:45px;top:12px;z-index:9\"><span class=\"gsc_oci_g_al\">68</span></a><a class=\"gsc_oci_g_a\" href=\"https://scholar.google.com/scholar?oi=bibs&amp;hl=en&amp;cites=709985882886358776,10198719583655575554&amp;as_sdt=5&amp;as_ylo=2015&amp;as_yhi=2015\" style=\"left:665px;height:43px;top:14px;z-index:8\"><span class=\"gsc_oci_g_al\">66</span></a><a class=\"gsc_oci_g_a\" href=\"https://scholar.google.com/scholar?oi=bibs&amp;hl=en&amp;cites=709985882886358776,10198719583655575554&amp;as_sdt=5&amp;as_ylo=2016&amp;as_yhi=2016\" style=\"left:698px;height:40px;top:17px;z-index:7\"><span class=\"gsc_oci_g_al\">61</span></a><a class=\"gsc_oci_g_a\" href=\"https://scholar.google.com/scholar?oi=bibs&amp;hl=en&amp;cites=709985882886358776,10198719583655575554&amp;as_sdt=5&amp;as_ylo=2017&amp;as_yhi=2017\" style=\"left:731px;height:50px;top:7px;z-index:6\"><span class=\"gsc_oci_g_al\">77</span></a><a class=\"gsc_oci_g_a\" href=\"https://scholar.google.com/scholar?oi=bibs&amp;hl=en&amp;cites=709985882886358776,10198719583655575554&amp;as_sdt=5&amp;as_ylo=2018&amp;as_yhi=2018\" style=\"left:764px;height:33px;top:24px;z-index:5\"><span class=\"gsc_oci_g_al\">51</span></a><a class=\"gsc_oci_g_a\" href=\"https://scholar.google.com/scholar?oi=bibs&amp;hl=en&amp;cites=709985882886358776,10198719583655575554&amp;as_sdt=5&amp;as_ylo=2019&amp;as_yhi=2019\" style=\"left:797px;height:46px;top:11px;z-index:4\"><span class=\"gsc_oci_g_al\">70</span></a><a class=\"gsc_oci_g_a\" href=\"https://scholar.google.com/scholar?oi=bibs&amp;hl=en&amp;cites=709985882886358776,10198719583655575554&amp;as_sdt=5&amp;as_ylo=2020&amp;as_yhi=2020\" style=\"left:830px;height:33px;top:24px;z-index:3\"><span class=\"gsc_oci_g_al\">50</span></a><a class=\"gsc_oci_g_a\" href=\"https://scholar.google.com/scholar?oi=bibs&amp;hl=en&amp;cites=709985882886358776,10198719583655575554&amp;as_sdt=5&amp;as_ylo=2021&amp;as_yhi=2021\" style=\"left:863px;height:31px;top:26px;z-index:2\"><span class=\"gsc_oci_g_al\">48</span></a><a class=\"gsc_oci_g_a\" href=\"https://scholar.google.com/scholar?oi=bibs&amp;hl=en&amp;cites=709985882886358776,10198719583655575554&amp;as_sdt=5&amp;as_ylo=2022&amp;as_yhi=2022\" style=\"left:896px;height:30px;top:27px;z-index:1\"><span class=\"gsc_oci_g_al\">46</span></a></div></div></div></div>"
      ]
     },
     "execution_count": 235,
     "metadata": {},
     "output_type": "execute_result"
    }
   ],
   "source": [
    "soup.find_all(name = 'div' , attrs = {\"class\" : \"gsc_oci_value\"})[4]"
   ]
  },
  {
   "cell_type": "code",
   "execution_count": 236,
   "metadata": {},
   "outputs": [
    {
     "data": {
      "text/plain": [
       "'Cited by 1646'"
      ]
     },
     "execution_count": 236,
     "metadata": {},
     "output_type": "execute_result"
    }
   ],
   "source": [
    "soup.find_all(name = 'div' , attrs = {\"class\" : \"gsc_oci_value\"})[4].find(name = 'div' , attrs = {\"style\" : \"margin-bottom:1em\"}).text.split(\"by \")[1]      # Citations\n"
   ]
  },
  {
   "cell_type": "code",
   "execution_count": null,
   "metadata": {},
   "outputs": [],
   "source": []
  },
  {
   "cell_type": "code",
   "execution_count": 154,
   "metadata": {},
   "outputs": [
    {
     "data": {
      "text/plain": [
       "'https://scholar.google.com/citations?view_op=view_citation&hl=en&user=L2vmD3MAAAAJ&citation_for_view=L2vmD3MAAAAJ:C33y2ycGS3YC'"
      ]
     },
     "execution_count": 154,
     "metadata": {},
     "output_type": "execute_result"
    }
   ],
   "source": [
    "soup.find_all(name = 'tr' , attrs = {\"class\" : \"gsc_a_tr\"})[i].a[\"href\"]"
   ]
  },
  {
   "cell_type": "code",
   "execution_count": null,
   "metadata": {},
   "outputs": [],
   "source": [
    "gsc_oci_table"
   ]
  },
  {
   "cell_type": "code",
   "execution_count": 188,
   "metadata": {},
   "outputs": [
    {
     "data": {
      "text/plain": [
       "'This text is based on the chapter Domain Theory in the Handbook for Logic in Computer Science, volume 3, edited by S. Abramsky, Dov M. Gabbay, and TS E. Maibaum, published by Clarendon Press, Oxford in 1994. While the numbering of all theorems and definitions has been kept the same, we have included comments and corrections which we have received over the years. For ease of reading, small typographical errors have simply been corrected. Where we felt the original text gave a misleading impression, we have included additional explanations, clearly marked as such.'"
      ]
     },
     "execution_count": 188,
     "metadata": {},
     "output_type": "execute_result"
    }
   ],
   "source": [
    "soup.find_all(name = 'div' , attrs = {\"class\" : \"gsc_oci_value\"})[3].text                       # Author's name\n"
   ]
  },
  {
   "cell_type": "code",
   "execution_count": 116,
   "metadata": {},
   "outputs": [],
   "source": [
    "a = [[[]]]\n",
    "a[0].append(\"a\")\n",
    "a.append(\"c\")\n",
    "a[0].append(\"b\")"
   ]
  },
  {
   "cell_type": "code",
   "execution_count": 112,
   "metadata": {},
   "outputs": [
    {
     "data": {
      "text/plain": [
       "[[[], 'a', 'b'], 'c']"
      ]
     },
     "execution_count": 112,
     "metadata": {},
     "output_type": "execute_result"
    }
   ],
   "source": [
    "a"
   ]
  },
  {
   "cell_type": "code",
   "execution_count": 43,
   "metadata": {},
   "outputs": [
    {
     "data": {
      "text/plain": [
       "'https://scholar.google.com/citations?hl=en&view_op=search_authors&mauthors=Samson+Abramsky&btnG='"
      ]
     },
     "execution_count": 43,
     "metadata": {},
     "output_type": "execute_result"
    }
   ],
   "source": [
    "links[0]"
   ]
  },
  {
   "cell_type": "code",
   "execution_count": 60,
   "metadata": {},
   "outputs": [
    {
     "name": "stdout",
     "output_type": "stream",
     "text": [
      "<!DOCTYPE html PUBLIC \"-//W3C//DTD HTML 4.01 Transitional//EN\">\n",
      "\n",
      "<html>\n",
      "<head><meta content=\"text/html; charset=utf-8\" http-equiv=\"content-type\"/><meta content=\"initial-scale=1\" name=\"viewport\"/><title>https://scholar.google.com/citations?hl=en&amp;view_op=search_authors&amp;mauthors=Samson+Abramsky&amp;btnG=</title></head>\n",
      "<body onload=\"e=document.getElementById('captcha');if(e){e.focus();} if(solveSimpleChallenge) {solveSimpleChallenge(,);}\" style=\"font-family: arial, sans-serif; background-color: #fff; color: #000; padding:20px; font-size:18px;\">\n",
      "<div style=\"max-width:400px;\">\n",
      "<hr noshade=\"\" size=\"1\" style=\"color:#ccc; background-color:#ccc;\"/><br/>\n",
      "<form action=\"index\" id=\"captcha-form\" method=\"post\">\n",
      "<noscript>\n",
      "<div style=\"font-size:13px;\">\n",
      "  In order to continue, please enable javascript on your web browser.\n",
      "</div>\n",
      "</noscript>\n",
      "<script async=\"\" defer=\"\" src=\"https://www.google.com/recaptcha/api.js\"></script>\n",
      "<script>var submitCallback = function(response) {document.getElementById('captcha-form').submit();};</script>\n",
      "<div class=\"g-recaptcha\" data-callback=\"submitCallback\" data-s=\"2ko5S_tECY42ogWFY4WR4FjvXS7Vwzhgc-0blMoLy7imkflE-Smd0ZP-0tBEnppRexNja_PqVaA-IqSkYypEkgMqwNjuIi327-b6ZUIPF7fUnv-0r6hCy2WIQklR_YtVjCGyxRjKC2evbpCnCHcNB9zs0mjFHYts2pIMEEkxncCNIhuMSwt7pWfZ-TYvL1aAyVeOjyWJqfJVuMaAp0JJMbe_PXyeOijmtVYtfyI\" data-sitekey=\"6LfwuyUTAAAAAOAmoS0fdqijC2PbbdH4kjq62Y1b\" id=\"recaptcha\"></div>\n",
      "<input name=\"q\" type=\"hidden\" value=\"EgTS1CRFGMHRqpoGIhDsjxgXS8pFAMn0XMZ76VEoMgFy\"/><input name=\"continue\" type=\"hidden\" value=\"https://scholar.google.com/citations?hl=en&amp;view_op=search_authors&amp;mauthors=Samson+Abramsky&amp;btnG=\"/>\n",
      "</form>\n",
      "<hr noshade=\"\" size=\"1\" style=\"color:#ccc; background-color:#ccc;\"/>\n",
      "<div style=\"font-size:13px;\">\n",
      "<b>About this page</b><br/><br/>\n",
      "\n",
      "Our systems have detected unusual traffic from your computer network.  This page checks to see if it's really you sending the requests, and not a robot.  <a href=\"#\" onclick=\"document.getElementById('infoDiv').style.display='block';\">Why did this happen?</a><br/><br/>\n",
      "<div id=\"infoDiv\" style=\"display:none; background-color:#eee; padding:10px; margin:0 0 15px 0; line-height:1.4em;\">\n",
      "This page appears when Google automatically detects requests coming from your computer network which appear to be in violation of the <a href=\"//www.google.com/policies/terms/\">Terms of Service</a>. The block will expire shortly after those requests stop.  In the meantime, solving the above CAPTCHA will let you continue to use our services.<br/><br/>This traffic may have been sent by malicious software, a browser plug-in, or a script that sends automated requests.  If you share your network connection, ask your administrator for help — a different computer using the same IP address may be responsible.  <a href=\"//support.google.com/websearch/answer/86640\">Learn more</a><br/><br/>Sometimes you may be asked to solve the CAPTCHA if you are using advanced terms that robots are known to use, or sending requests very quickly.\n",
      "</div>\n",
      "\n",
      "IP address: 210.212.36.69<br/>Time: 2022-10-15T12:34:11Z<br/>URL: https://scholar.google.com/citations?hl=en&amp;view_op=search_authors&amp;mauthors=Samson+Abramsky&amp;btnG=<br/>\n",
      "</div>\n",
      "</div>\n",
      "</body>\n",
      "</html>\n",
      "\n"
     ]
    }
   ],
   "source": [
    "r = requests.get(links[0], proxies = { \"https\" : \"http://172.16.2.251:3128\"}) # method used is GET\n",
    "s = BeautifulSoup(r.content, \"html.parser\")\n",
    "# print(r)\n",
    "info = s.find(name = 'div' , attrs = {\"class\" : \"gs_ai_t\"}).find(name = 'h3' , attrs = {\"class\" : \"gs_ai_name\"}).a[\"href\"]\n",
    "\n",
    "print(info)\n"
   ]
  },
  {
   "cell_type": "code",
   "execution_count": 71,
   "metadata": {},
   "outputs": [
    {
     "name": "stdout",
     "output_type": "stream",
     "text": [
      "https://scholar.google.com/citations?hl=en&user=L2vmD3MAAAAJ\n"
     ]
    }
   ],
   "source": [
    "with open(\"site_1.html\", \"r\") as html_file:\n",
    "    content = html_file.read()\n",
    "soup = BeautifulSoup(content, \"lxml\")\n",
    "\n",
    "info = soup.find(name = 'div' , attrs = {\"class\" : \"gs_ai_t\"}).find(name = 'h3' , attrs = {\"class\" : \"gs_ai_name\"}).a[\"href\"]\n",
    "\n",
    "print(info)\n"
   ]
  },
  {
   "cell_type": "code",
   "execution_count": 88,
   "metadata": {},
   "outputs": [
    {
     "name": "stdout",
     "output_type": "stream",
     "text": [
      "None\n"
     ]
    }
   ],
   "source": [
    "with open(\"why.html\", \"r\") as html_file:\n",
    "    content = html_file.read()\n",
    "soup = BeautifulSoup(content, \"lxml\")\n",
    "info = soup.find(name = 'div' , attrs = {\"class\" : \"gs_ai_t\"})\n",
    "print(info)\n",
    "\n"
   ]
  },
  {
   "cell_type": "code",
   "execution_count": 46,
   "metadata": {},
   "outputs": [
    {
     "data": {
      "text/plain": [
       "'https://scholar.google.com/citations?hl=en&view_op=search_authors&mauthors=Samson+Abramsky&btnG='"
      ]
     },
     "execution_count": 46,
     "metadata": {},
     "output_type": "execute_result"
    }
   ],
   "source": [
    "links[0]"
   ]
  },
  {
   "cell_type": "code",
   "execution_count": null,
   "metadata": {},
   "outputs": [],
   "source": []
  }
 ],
 "metadata": {
  "kernelspec": {
   "display_name": "Python 3.9.7 ('base')",
   "language": "python",
   "name": "python3"
  },
  "language_info": {
   "codemirror_mode": {
    "name": "ipython",
    "version": 3
   },
   "file_extension": ".py",
   "mimetype": "text/x-python",
   "name": "python",
   "nbconvert_exporter": "python",
   "pygments_lexer": "ipython3",
   "version": "3.9.7"
  },
  "orig_nbformat": 4,
  "vscode": {
   "interpreter": {
    "hash": "31573f05405314accbfaf7664fce8ff13322a8b89c7e6f07ba20217eb78624a0"
   }
  }
 },
 "nbformat": 4,
 "nbformat_minor": 2
}
